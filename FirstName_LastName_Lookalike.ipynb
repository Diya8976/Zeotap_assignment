{
 "cells": [
  {
   "cell_type": "code",
   "execution_count": 24,
   "id": "ed737e08-d940-49f5-bc28-1f7b89503ac6",
   "metadata": {},
   "outputs": [],
   "source": [
    "from sklearn.metrics.pairwise import cosine_similarity\n",
    "from sklearn.preprocessing import StandardScaler"
   ]
  },
  {
   "cell_type": "code",
   "execution_count": 40,
   "id": "e8088959-4cb4-413c-bbea-87f5243d4272",
   "metadata": {},
   "outputs": [],
   "source": [
    "# prepare data for similarity calculations\n",
    "customer_agg = data.groupby('CustomerID').agg({\n",
    "    'TotalValue' : 'sum',\n",
    "    'Quantity' : 'sum',\n",
    "    'Price_x' : 'mean',\n",
    "    'Price_y' : 'mean'\n",
    "}).reset_index()"
   ]
  },
  {
   "cell_type": "code",
   "execution_count": 42,
   "id": "da99f78b-4f9f-4470-ac50-f302597313a2",
   "metadata": {},
   "outputs": [],
   "source": [
    "# add customer profile features\n",
    "customer_features = pd.merge(customer_agg, customers, on='CustomerID')"
   ]
  },
  {
   "cell_type": "code",
   "execution_count": 44,
   "id": "4e7e1610-e002-44d5-8423-2a9d68255d61",
   "metadata": {},
   "outputs": [],
   "source": [
    "# encode categorical features(region )\n",
    "customer_features = pd.get_dummies(customer_features, columns=['Region'])"
   ]
  },
  {
   "cell_type": "code",
   "execution_count": 66,
   "id": "3aa08039-b9a1-49fe-a3c0-79139177cc84",
   "metadata": {},
   "outputs": [
    {
     "name": "stdout",
     "output_type": "stream",
     "text": [
      "CustomerID               object\n",
      "TotalValue              float64\n",
      "Quantity                  int64\n",
      "Price_x                 float64\n",
      "Price_y                 float64\n",
      "CustomerName             object\n",
      "SignupDate               object\n",
      "Region_Asia                bool\n",
      "Region_Europe              bool\n",
      "Region_North America       bool\n",
      "Region_South America       bool\n",
      "dtype: object\n"
     ]
    }
   ],
   "source": [
    "print(customer_features.dtypes)"
   ]
  },
  {
   "cell_type": "code",
   "execution_count": 68,
   "id": "ba361e3c-6827-4688-93ab-1e204da29e1d",
   "metadata": {},
   "outputs": [
    {
     "name": "stdout",
     "output_type": "stream",
     "text": [
      "   TotalValue  Quantity     Price_x     Price_y\n",
      "0     3354.52        12  278.334000  278.334000\n",
      "1     1862.74        10  208.920000  208.920000\n",
      "2     2725.38        14  195.707500  195.707500\n",
      "3     5354.88        23  240.636250  240.636250\n",
      "4     2034.24         7  291.603333  291.603333\n"
     ]
    }
   ],
   "source": [
    "numerical_features = customer_features.select_dtypes(include=['float64', 'int64'])\n",
    "print(numerical_features.head())"
   ]
  },
  {
   "cell_type": "code",
   "execution_count": 72,
   "id": "e2e6de83-095c-450c-80f5-938fd56d23bc",
   "metadata": {},
   "outputs": [
    {
     "name": "stdout",
     "output_type": "stream",
     "text": [
      "   TotalValue  Quantity   Price_x   Price_y\n",
      "0   -0.061701 -0.122033  0.094670  0.094670\n",
      "1   -0.877744 -0.448000 -0.904016 -0.904016\n",
      "2   -0.405857  0.203934 -1.094109 -1.094109\n",
      "3    1.032547  1.670787 -0.447702 -0.447702\n",
      "4   -0.783929 -0.936951  0.285581  0.285581\n"
     ]
    }
   ],
   "source": [
    "#normalize numerical features\n",
    "scaler = StandardScaler()\n",
    "normalized_features = scaler.fit_transform(numerical_features)\n",
    "\n",
    "#if you need to combine with original columns, convert back to a Dataframe\n",
    "normalized_df = pd.DataFrame(normalized_features, columns=numerical_features.columns)\n",
    "print(normalized_df.head())"
   ]
  },
  {
   "cell_type": "code",
   "execution_count": 74,
   "id": "5f593bf8-87e1-4898-92e5-72bd53501898",
   "metadata": {},
   "outputs": [],
   "source": [
    "# calculate similarity\n",
    "similarity_matrix = cosine_similarity(normalized_features)"
   ]
  },
  {
   "cell_type": "code",
   "execution_count": 76,
   "id": "82ea2484-f50c-40ff-99b8-e300fea1409a",
   "metadata": {},
   "outputs": [],
   "source": [
    "# Find top 3 similar customers\n",
    "lookalike = {}\n",
    "for idx, customer_id in enumerate(customer_features['CustomerID']):\n",
    "    scores = list(enumerate(similarity_matrix[idx]))\n",
    "    scores = sorted(scores, key=lambda x: x[1], reverse=True)[1:4]  # Exclude self\n",
    "    lookalike[customer_id] = [(customer_features['CustomerID'][i], round(score, 2)) for i, score in scores]"
   ]
  },
  {
   "cell_type": "code",
   "execution_count": 78,
   "id": "0b18ad87-aac4-4c97-a59d-6352cf18794a",
   "metadata": {},
   "outputs": [
    {
     "name": "stdout",
     "output_type": "stream",
     "text": [
      "Lookalike recommendations saved successfully!\n"
     ]
    }
   ],
   "source": [
    "# save to lookalike.csv\n",
    "import csv\n",
    "with open('FirstName_LastName_Lookalike.csv', mode='w', newline='') as file:\n",
    "    writer = csv.writer(file)\n",
    "    writer.writerow([\"CustomerID\", \"Lookalikes\"])\n",
    "    for key, value in lookalike.items():\n",
    "        writer.writerow([key, value])\n",
    "\n",
    "print(\"Lookalike recommendations saved successfully!\")"
   ]
  },
  {
   "cell_type": "code",
   "execution_count": null,
   "id": "50409f84-c9a8-4504-b832-de66d5b88f68",
   "metadata": {},
   "outputs": [],
   "source": []
  }
 ],
 "metadata": {
  "kernelspec": {
   "display_name": "Python 3 (ipykernel)",
   "language": "python",
   "name": "python3"
  },
  "language_info": {
   "codemirror_mode": {
    "name": "ipython",
    "version": 3
   },
   "file_extension": ".py",
   "mimetype": "text/x-python",
   "name": "python",
   "nbconvert_exporter": "python",
   "pygments_lexer": "ipython3",
   "version": "3.12.4"
  }
 },
 "nbformat": 4,
 "nbformat_minor": 5
}
